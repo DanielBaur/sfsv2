{
 "cells": [
  {
   "cell_type": "markdown",
   "id": "0d5d38ea",
   "metadata": {},
   "source": [
    "\n",
    "\n",
    "<br>\n",
    "<br>\n",
    "\n",
    "\n",
    "<h1><center> SFS COPY</center></h1>\n",
    "\n",
    "\n",
    "<br>\n",
    "<br>\n",
    "\n",
    "\n",
    "#### Signal Formation Simulation\n",
    "The idea is to develop a lightweight and easy-to-use tool for the top-down how affects the performance of the next-generation dark matter detector.\n",
    "The code is based on the Noble Element Simulation Technique (NEST).\n",
    "\n",
    "\n",
    "<br>\n",
    "<br>\n",
    "\n",
    "\n",
    "#### This Notebook\n",
    "This is the notebook that was used to actually conduct the study.\n",
    "It is supposed to further serve as documentation of the ''sfs.py'' library. Feel free to copy the exemplary function calls below into your personal study project.\n",
    "\n",
    "\n",
    "<br>\n",
    "<br>\n",
    "\n",
    "\n",
    "#### Contents\n",
    "\n",
    "\n",
    "1. **[Setup](#Setup)**\n",
    "2. **[Imports and Definitions](#Imports-and-Definitions)**\n",
    "3. **[Detector Definition](#Detector-Definition)**\n",
    "4. **[Spectra Definition](#Spectra-Definition)**\n",
    "5. **[Executing NEST](#Executing-NEST)**\n",
    "6. **[ER/NR Discrimination](#ER/NR-Discrimination)**\n",
    "7. **[Maximum Likelihood Sensitivity Estimation](#Maximum-Likelihood-Sensitivity-Estimation)**\n",
    "\n",
    "\n",
    "<br>\n",
    "<br>\n",
    "\n",
    "\n",
    "#### Credits\n",
    "- NEST collaboration\n",
    "- C. Hock\n",
    "\n",
    "\n",
    "<br>\n",
    "<br>\n"
   ]
  },
  {
   "cell_type": "markdown",
   "id": "40c5d675",
   "metadata": {},
   "source": [
    "\n",
    "<br>\n",
    "<br>\n",
    "\n",
    "\n",
    "# Setup\n",
    "\n",
    "\n",
    "<br>\n",
    "<br>\n",
    "\n",
    "\n",
    "- install NEST following their official documentation\n",
    "\n",
    "\n",
    "- Store the absolute path of the NEST installation, i.e., the directory containing the `nest`, `install`, and `build` directories, in an environmental variable. Therefore execute:<br> `$ echo 'export ABSPATH_NEST_INSTALLATION=\"/abspath/to/your/nest/root/directory/\" >> ~/.bashrc'`\n",
    "\n",
    "\n",
    "- git clone the ''sfsv2'' repository\n",
    "\n",
    "\n",
    "- edit the ''sfs.py'' file\n",
    "\n",
    "\n",
    "<br>\n",
    "<br>\n"
   ]
  },
  {
   "cell_type": "markdown",
   "id": "4cc1edf0",
   "metadata": {},
   "source": [
    "\n",
    "<br>\n",
    "<br>\n",
    "\n",
    "\n",
    "# Imports and Definitions\n",
    "\n",
    "\n",
    "<br>\n",
    "<br>\n"
   ]
  },
  {
   "cell_type": "markdown",
   "id": "a9a18ebe",
   "metadata": {},
   "source": [
    "#### paths"
   ]
  },
  {
   "cell_type": "code",
   "execution_count": 1,
   "id": "290d2db6",
   "metadata": {},
   "outputs": [],
   "source": [
    "\n",
    "\n",
    "# path definitions\n",
    "abspath_sfs_repo = \"/home/daniel/Desktop/arbeitsstuff/sfs/github_repo_v2/\"\n",
    "abspath_study = abspath_sfs_repo # you'll probably have different paths for 'abspath_sfs_repo' and 'abspath_study'\n",
    "abspath_detectors = abspath_study +\"detectors/\"\n",
    "abspath_spectra = abspath_study +\"spectra/\"\n",
    "abspath_resources = abspath_study +\"resources/\"\n",
    "abspath_list_plots = [abspath_study +\"plots/\", \"/home/daniel/Desktop/arbeitsstuff/thesis/images/sfs/\"]\n",
    "abspath_signatures = abspath_study +\"signatures/\"\n",
    "abspath_discrimination_lines = abspath_study +\"discrimination_lines/\"\n",
    "abspath_test = abspath_study +\"test/\"\n",
    "abspath_er_leakage_study = abspath_study +\"20230519__er_leakage_study/\"\n"
   ]
  },
  {
   "cell_type": "markdown",
   "id": "9fed6d2e",
   "metadata": {},
   "source": [
    "#### imports"
   ]
  },
  {
   "cell_type": "code",
   "execution_count": 2,
   "id": "d143f6c3",
   "metadata": {},
   "outputs": [],
   "source": [
    "\n",
    "# imports <---- check which one of those are actually needed\n",
    "import subprocess\n",
    "import numpy as np\n",
    "import matplotlib.pyplot as plt\n",
    "from random import randrange\n",
    "import time\n",
    "from datetime import timedelta\n",
    "import datetime\n",
    "import matplotlib.gridspec as gridspec\n",
    "\n",
    "\n",
    "\n",
    "# importing my personal matplotlib style file\n",
    "import matplotlib as mpl\n",
    "plt.style.use(\"file:///home/daniel/Desktop/arbeitsstuff/monxe/software/miscfig/danielsmplstyle.mplstyle\")\n",
    "\n",
    "\n",
    "# importing the sfs library\n",
    "import sys\n",
    "sys.path.append(abspath_sfs_repo)\n",
    "import sfs\n"
   ]
  },
  {
   "cell_type": "markdown",
   "id": "73e85667",
   "metadata": {},
   "source": [
    "#### study assumptions"
   ]
  },
  {
   "cell_type": "code",
   "execution_count": 3,
   "id": "38ab630a",
   "metadata": {},
   "outputs": [
    {
     "name": "stdout",
     "output_type": "stream",
     "text": [
      "WIMP EROI: [1.4,11.6] keV_ER\n",
      "WIMP EROI: [7.3,54.9] keV_NR\n",
      "simulation EROI: [1.1,17.4] keV_ER\n",
      "simulation EROI: [5.9,82.3] keV_NR\n"
     ]
    }
   ],
   "source": [
    "\n",
    "\n",
    "# default study parameters\n",
    "default_wimp_eroi_kev_ee = [1.4, 11.6] # WIMP energy region of interest in keV_ee\n",
    "default_wimp_eroi_kev_nr = [sfs.convert_recoil_energy_scale(default_wimp_eroi_kev_ee[0], \"ER\"), sfs.convert_recoil_energy_scale(default_wimp_eroi_kev_ee[1], \"ER\")] # WIMP energy region of interest in keV_nr\n",
    "print(f\"WIMP EROI: [{default_wimp_eroi_kev_ee[0]:.1f},{default_wimp_eroi_kev_ee[1]:.1f}] keV_ER\")\n",
    "print(f\"WIMP EROI: [{default_wimp_eroi_kev_nr[0]:.1f},{default_wimp_eroi_kev_nr[1]:.1f}] keV_NR\")\n",
    "default_wimp_mass_gev = 100 # WIMP mass in GeV\n",
    "default_wimp_nucleon_cross_section_cm2 = 5e-49 # WIMP-nucleon cross-section in cm^2\n",
    "\n",
    "\n",
    "# default study settings\n",
    "default_number_of_medium_stat_simulations = 5*10**5 # number of events simulated in medium statistics simulations\n",
    "default_number_of_high_stat_simulations = 5*10**6 # number of events simulated in high statistics simulations\n",
    "default_simulation_energy_bins = 50 # number of energy bins used for the spectra simulation\n",
    "default_recoil_energy_simulation_window_er = [0.8*default_wimp_eroi_kev_ee[0], default_wimp_eroi_kev_ee[1]*1.5] # energy simulation window for ER signatures (due to leakage one needs to simulate events from outside the EROI)\n",
    "default_recoil_energy_simulation_window_nr = [0.8*default_wimp_eroi_kev_nr[0], default_wimp_eroi_kev_nr[1]*1.5] # energy simulation window for ER signatures (due to leakage one needs to simulate events from outside the EROI)\n",
    "print(f\"simulation EROI: [{default_recoil_energy_simulation_window_er[0]:.1f},{default_recoil_energy_simulation_window_er[1]:.1f}] keV_ER\")\n",
    "print(f\"simulation EROI: [{default_recoil_energy_simulation_window_nr[0]:.1f},{default_recoil_energy_simulation_window_nr[1]:.1f}] keV_NR\")\n",
    "default_number_of_discrimination_line_energy_bins = 50 # number of energy bins into which the WIMP EROI is subdivided for the computation of the ER rejection\n",
    "default_nr_acceptance = 0.50 # acceptance of the (not in percent) of the nuclear recoils on which the NR computation is based\n",
    "default_seed_for_baseline_assessment = 2615 # 2614\n",
    "\n",
    "\n",
    "# default detector parameters\n",
    "default_param_range_eLife_us = [800, 19200] # in us, baseline value: 10000 us\n",
    "default_param_range_e_drift = [80, 320] # in V/cm, baseline value: 200 V/cm\n",
    "default_param_range_g1 = [0.080, 0.170] # in phd/photon, baseline value: 0.125\n",
    "default_param_range_E_gas = [6.0, 10.0] # in kV/cm, baseline value: 8 kV/cm\n",
    "default_param_eLife_us = 10000\n",
    "default_param_e_drift = 200\n",
    "default_param_g1 = 0.125\n",
    "default_param_E_gas = 8\n"
   ]
  },
  {
   "cell_type": "markdown",
   "id": "4b7ae879",
   "metadata": {},
   "source": [
    "\n",
    "<br>\n",
    "<br>\n",
    "\n",
    "\n",
    "# DARWIN Baseline Detector Definition\n",
    "\n",
    "\n",
    "<br>\n",
    "<br>\n"
   ]
  },
  {
   "cell_type": "code",
   "execution_count": 4,
   "id": "9d9cc5d4",
   "metadata": {},
   "outputs": [
    {
     "name": "stdout",
     "output_type": "stream",
     "text": [
      "g2: 45.403972482531884 phd per primary electron\n",
      "drift velocity: 1.5248620549967127 mm/usec\n",
      "active xenon mass: 40.449157162641384 tonnes\n",
      "max drift time: 1705.0722663602546 usec\n",
      "fiducial exposure: 150 ty\n",
      "active exposure: 202.2457858132069 ty\n"
     ]
    }
   ],
   "source": [
    "\n",
    "\n",
    "# defining the 'detector_dict'\n",
    "darwin_baseline_detector_dict = {\n",
    "    # primary scintillation (S1) parameters\n",
    "    \"g1\"                : default_param_g1,         # phd per S1 phot at dtCntr (not phe), divide out 2-PE effect,                          JN: 0.119, LUX_Run03: 0.1170 (0.117+/-0.003 WS,0.115+/-0.005 D-D,0.115+/-0.005 CH3T,0.119+/-0.001 LUXSim), XENON10: 0.073\n",
    "    \"sPEres\"            : 0.35,                     # single phe (=PE=photoelectrons) resolution (Gaussian assumed),                        JN: 0.38, LUX_Run03: 0.37 (arXiv:1910.04211.), XENON10: 0.58\n",
    "    \"sPEthr\"            : 0.35,                     # POD threshold in phe, usually used IN PLACE of sPEeff,                                JN: 0.35, LUX_Run03: (0.3 * 1.173) / 0.915 (arXiv:1910.04211.), XENON10: 0.35\n",
    "    \"sPEeff\"            : 1.0,                      # actual efficiency, can be used in lieu of POD threshold, units: fractional,           JN: 0.90, LUX_Run03: 1.00 (arXiv:1910.04211), XENON10: 1.00\n",
    "    \"noiseBaseline[0]\"  : 0.0,                      # baseline noise mean in PE (Gaussian),                                                 JN: 0.0, LUX_Run03: 0.00 (arXiv:1910.04211 says -0.01), XENON10: 0.0\n",
    "    \"noiseBaseline[1]\"  : 0.0,                      # baseline noise width in PE (Gaussian),                                                JN: 0.0, LUX_Run03: 0.08 (arXiv:1910.04211), XENON10: 0.0\n",
    "    \"noiseBaseline[2]\"  : 0.0,                      # baseline noise mean in e- (for grid wires),                                           JN: none, LUX_Run03: 0.0, XENON10: 0.0\n",
    "    \"noiseBaseline[3]\"  : 0.0,                      # baseline noise width in e- (for grid wires),                                          JN: none, LUX_Run03: 0.0, XENON10: 0.0\n",
    "    \"P_dphe\"            : 0.2,                      # chance 1 photon makes 2 phe instead of 1 in Hamamatsu PMT, units: fractional,         JN: 0.22, LUX_Run03: 0.173 (arXiv:1910.04211), XENON10: 0.2\n",
    "    \"coinWind\"          : 150,                      # S1 coincidence window in ns,                                                          JN: 100, LUX_Run03: 100 (1310.8214), XENON10: 100\n",
    "    \"coinLevel\"         : 3,                        # how many PMTs have to fire for an S1 to count,                                        JN: 3, LUX_Run03: 2 (1512.03506), XENON10: 2\n",
    "    \"numPMTs\"           : 494,                      # for coincidence calculation,                                                          JN: 494, LUX_Run03: 119 (122 minus 3 off), XENON10: 89\n",
    "    \"OldW13eV\"          : \"true\",                   # default true, which means use \"classic\" W instead of Baudis / EXO's,                  JN: none, LUX_Run03: \"true\", XENON10: \"true\"\n",
    "    \"noiseLinear[0]\"    : 0.0e-2,                   # S1->S1 Gaussian-smeared with noiseL[0]*S1, units: fraction NOT %!                     JN: none, LUX_Run03: 0.0e-2 (1910.04211 p.12, to match 1610.02076 Fig. 8.), XENON10: 3e-2\n",
    "    \"noiseLinear[1]\"    : 0.0e-2,                   # S2->S2 Gaussian-smeared with noiseL[1]*S2, units: fraction NOT %!                     JN: none, LUX_Run03: 0.0e-2 (1910.04211 p.12, to match 1610.02076 Fig. 8.), XENON10: 3e-2\n",
    "    # ionization and secondary scintillation (S2) parameters\n",
    "    \"g1_gas\"            : 0.125,                    # phd per S2 photon in gas, used to get SE size, units: phd per e-,                     JN: 0.102, LUX_Run03: 0.1 (0.1 in 1910.04211), XENON10: 0.0655\n",
    "    \"s2Fano\"            : 2.0,                      # Fano-like fudge factor for SE width, dimensionless,                                   JN: 3.61, LUX_Run03: 3.6 (3.7 in 1910.04211; this matches 1608.05381 better), XENON10: 3.61\n",
    "    \"s2_thr\"            : 10.0,                     # the S2 threshold in phe or PE, *not* phd. Affects NR most,                            JN: 100.0, LUX_Run03: (150.0 * 1.173) / 0.915 (65-194 pe in 1608.05381), XENON10: 300.0\n",
    "    \"E_gas\"             : default_param_E_gas,      # field in kV/cm between liquid/gas border and anode,                                   JN: 10.85, LUX_Run03: 6.25 (6.55 in 1910.04211), XENON10: 12.0\n",
    "    \"eLife_us\"          : default_param_eLife_us,   # the drift electron mean lifetime in micro-seconds,                                    JN: 1600.0, LUX_Run03: 800.0 (p.44 of James Verbus PhD thesis Brown), XENON10: 2200.0\n",
    "    # thermodynamic properties\n",
    "#    \"inGas\"             : \"false\",                  # (duh),                                                                               JN: \"false\", LUX_Run03: commented out, XENON10: \"false\"\n",
    "    \"T_Kelvin\"          : 175.0,                    # for liquid drift speed calculation, temperature in Kelvin,                            JN: 175.0, LUX_Run03: 173.0 (1910.04211), XENON10: 177.0\n",
    "    \"p_bar\"             : 1.9,                      # gas pressure in units of bars, it controls S2 size,                                   JN: 2.0, LUX_Run03: 1.57 (1910.04211), XENON10: 2.14\n",
    "    # data analysis parameters and geometry\n",
    "    \"dtCntr\"            : 900.0,                    # center of detector for S1 corrections, in usec.,                                      JN: 822.0, LUX_Run03: 160.0 (p.61 Dobi thesis UMD, 159 in 1708.02566), XENON10: 40.0\n",
    "    \"dt_min\"            : 100.0,                    # minimum. Top of detector fiducial volume, units: microseconds,                        JN: 75.8, LUX_Run03: 38.0 (1608.05381), XENON10: 20.0\n",
    "    \"dt_max\"            : 1700.0,                   # maximum. Bottom of detector fiducial volume, units: microseconds,                     JN: 1536.5, LUX_Run03: 305.0 (1608.05381), XENON10: 60.0\n",
    "    \"radius\"            : 1250.0,                   # millimeters (fiducial rad), units: millimeters,                                       JN: 1300., LUX_Run03: 200.0 (1512.03506), XENON10: 50.0\n",
    "    \"radmax\"            : 1300.0,                   # actual physical geo. limit, units: millimeters,                                       JN: 1350., LUX_Run03: 235.0 (1910.04211), XENON10: 50.0\n",
    "    \"TopDrift\"          : 2650.0,                   # top of drift volume in mm not cm or us, i.e., this *is* where dt=0, z=0mm is cathode,  JN: 3005.0, LUX_Run03: 544.95 (544.95 in 1910.04211), XENON10: 150.0\n",
    "    \"anode\"             : 2657.0,                   # the level of the anode grid-wire plane in mm,                                         JN: 3012.5, LUX_Run03: 549.2 (1910.04211 and 549 in 1708.02566), XENON10: 152.5\n",
    "    \"gate\"              : 2643.0,                   # mm. this is where the E-field changes (higher),                                       JN: 3000.0, LUX_Run03: 539.2 (1910.04211 and 539 in 1708.02566), XENON10: 147.5\n",
    "    \"cathode\"           : 50.0,                     # mm. defines point below which events are gamma-X                                      JN: 250, LUX_Run03: 55.90 (55.9-56 in 1910.04211,1708.02566), XENON10: 1.00\n",
    "    # 2D (xy) position reconstruction\n",
    "    \"PosResExp\"         : 0.015,                    # exp increase in pos recon res at hi r, units: 1/mm,                                   JN: 0.015, LUX_Run03: 0.015 (arXiv:1710.02752 indirectly), XENON10: 0.015\n",
    "    \"PosResBase\"        : 30.,                      # baseline unc in mm, see NEST.cpp for usage,                                           JN: 30.0, LUX_Run03: 70.8364 ((1710.02752 indirectly), XEONON10: 70.8364\n",
    "}\n",
    "\n",
    "\n",
    "\n",
    "# non-NEST detector parameters\n",
    "darwin_baseline_detector_drift_field_v_cm = default_param_e_drift # drift field of the darwin baseline design in V/cm\n",
    "darwin_baseline_detector_runtime_y = 5 # live time of the experiment in years\n",
    "darwin_baseline_detector_fiducial_mass_t = 30 # fiducial volume of the detector in metric tonnes\n",
    "\n",
    "\n",
    "# adjusting drift times according to detector dimension\n",
    "darwin_baseline_detector_dict = sfs.adjust_detector_drift_time_parameters(darwin_baseline_detector_dict, darwin_baseline_detector_drift_field_v_cm)\n",
    "\n",
    "\n",
    "# saving the 'detector_dict' of the darwin baseline detector\n",
    "sfs.write_dict_to_json(abspath_detectors +\"example__detector__darwin_baseline_detector.json\", darwin_baseline_detector_dict)\n",
    "\n",
    "\n",
    "# derived parameters\n",
    "darwin_baseline_detector_g2 = sfs.compute_g2_from_detector_configuration(darwin_baseline_detector_dict)\n",
    "print(f\"g2: {darwin_baseline_detector_g2} phd per primary electron\")\n",
    "darwin_baseline_detector_drift_velocity_mm_usec = sfs.compute_drift_velocity_from_detector_configuration(darwin_baseline_detector_dict,darwin_baseline_detector_drift_field_v_cm)\n",
    "print(f\"drift velocity: {darwin_baseline_detector_drift_velocity_mm_usec} mm/usec\")\n",
    "darwin_baseline_detector_active_xenon_mass_t = sfs.calc_active_xenon_mass_of_detector_dict_t(darwin_baseline_detector_dict)\n",
    "print(f\"active xenon mass: {darwin_baseline_detector_active_xenon_mass_t} tonnes\")\n",
    "max_drift_time_usec = (darwin_baseline_detector_dict['TopDrift']-darwin_baseline_detector_dict['cathode'])/darwin_baseline_detector_drift_velocity_mm_usec\n",
    "print(f\"max drift time: {max_drift_time_usec} usec\")\n",
    "darwin_baseline_detector_fiducial_exposure_ty = darwin_baseline_detector_runtime_y*darwin_baseline_detector_fiducial_mass_t\n",
    "print(f\"fiducial exposure: {darwin_baseline_detector_fiducial_exposure_ty} ty\")\n",
    "darwin_baseline_detector_active_exposure_ty = darwin_baseline_detector_runtime_y*darwin_baseline_detector_active_xenon_mass_t\n",
    "print(f\"active exposure: {darwin_baseline_detector_active_exposure_ty} ty\")\n",
    "\n"
   ]
  },
  {
   "cell_type": "markdown",
   "id": "294dd0f6",
   "metadata": {},
   "source": [
    "\n",
    "<br>\n",
    "<br>\n",
    "\n",
    "\n",
    "# Ph.D. Study: ER Leakage Fraction\n",
    "\n",
    "\n",
    "<br>\n",
    "<br>\n",
    "\n"
   ]
  },
  {
   "cell_type": "markdown",
   "id": "9207f116",
   "metadata": {},
   "source": [
    "### Leakage Fraction Scan for Default Parameters"
   ]
  },
  {
   "cell_type": "markdown",
   "id": "40356cd6",
   "metadata": {},
   "source": [
    "#### data generation"
   ]
  },
  {
   "cell_type": "markdown",
   "id": "ee94607b",
   "metadata": {},
   "source": [
    "#### plotting"
   ]
  },
  {
   "cell_type": "markdown",
   "id": "54462f57",
   "metadata": {},
   "source": [
    "### Electron Lifetime + Drift Field"
   ]
  },
  {
   "cell_type": "markdown",
   "id": "c787302b",
   "metadata": {},
   "source": [
    "#### data generation"
   ]
  },
  {
   "cell_type": "markdown",
   "id": "8d328ee9",
   "metadata": {},
   "source": [
    "#### plotting"
   ]
  },
  {
   "cell_type": "markdown",
   "id": "44469ea6",
   "metadata": {},
   "source": [
    "### Effective Scintillation Gain and Extraction Field"
   ]
  },
  {
   "cell_type": "markdown",
   "id": "88e6a149",
   "metadata": {},
   "source": [
    "#### data generation"
   ]
  },
  {
   "cell_type": "markdown",
   "id": "3b861494",
   "metadata": {},
   "source": [
    "#### plotting"
   ]
  },
  {
   "cell_type": "code",
   "execution_count": 37,
   "id": "85663de2",
   "metadata": {},
   "outputs": [
    {
     "name": "stdout",
     "output_type": "stream",
     "text": [
      "9975.847947075501\n",
      "2783794.3105066856\n",
      "278379431.05066854\n",
      "1.0212220516375285\n"
     ]
    }
   ],
   "source": [
    "def convert_reduced_electrical_field_in_townsend_to_electrical_field_in_v_per_m(\n",
    "    red_e_field_td, # reduced electrical field in Townsend, 1Td = 10**(-17) V/cm^2\n",
    "    p_pa, # pressure in Pascal (1bar = 10**5 Pa)\n",
    "    T_K, # temperature in Kelvin\n",
    "    R = 8.31446261815324 /(6.02214076*10**(23)), # universal gas constant in J/K\n",
    "):\n",
    "    red_e_field_v_m2 = red_e_field_td*10**(-21)\n",
    "    e_v_m = red_e_field_v_m2*p_pa/(R*T_K)\n",
    "    return e_v_m\n",
    "    \n",
    "    \n",
    "def convert_reduced_electrical_field_in_v_per_cm_torr_to_electrical_field_in_v_per_cm(\n",
    "    red_e_field_v_per_cm_torr, # reduced electrical field in Volts per cm and Torr\n",
    "    p_pa, # pressure in Pascal (1bar = 10**5 Pa)\n",
    "):\n",
    "    red_e_field_v_per_cm_pa = red_e_field_v_per_cm_torr/133.322 # 1 Torr = 133.322 Pa\n",
    "    e_v_cm = red_e_field_v_per_cm_pa*p_pa\n",
    "    return e_v_cm\n",
    "\n",
    "\n",
    "# computing the electron gain for the maximum gas extraction field\n",
    "e_v_cm = convert_reduced_electrical_field_in_v_per_cm_torr_to_electrical_field_in_v_per_cm(\n",
    "    red_e_field_v_per_cm_torr = 7,\n",
    "    p_pa = 1.9*10**5, # pressure in Pascal (1bar = 10**5 Pa)\n",
    ")\n",
    "print(e_v_cm)\n",
    "E_ion_ev = 22\n",
    "m_e_ev_c_2 = 511*10**3\n",
    "v_drift_m_s = 3*10**8*np.sqrt(2*E_ion_ev/m_e_ev_c_2)\n",
    "v_drift_cm_s = v_drift_m_s*100\n",
    "print(v_drift_m_s)\n",
    "print(v_drift_cm_s)\n",
    "g = np.exp(0.03*0.7)\n",
    "print(g)\n",
    "\n",
    "\n"
   ]
  },
  {
   "cell_type": "markdown",
   "id": "aadc32c0",
   "metadata": {},
   "source": [
    "#### drift velocity in liquid xenon"
   ]
  },
  {
   "cell_type": "code",
   "execution_count": 45,
   "id": "18e4bffd",
   "metadata": {},
   "outputs": [
    {
     "data": {
      "text/plain": [
       "9998.479320597015"
      ]
     },
     "execution_count": 45,
     "metadata": {},
     "output_type": "execute_result"
    }
   ],
   "source": [
    "\n",
    "get_plateau_electron_lifetime_us(200, 2.593)"
   ]
  }
 ],
 "metadata": {
  "kernelspec": {
   "display_name": "Python 3 (ipykernel)",
   "language": "python",
   "name": "python3"
  },
  "language_info": {
   "codemirror_mode": {
    "name": "ipython",
    "version": 3
   },
   "file_extension": ".py",
   "mimetype": "text/x-python",
   "name": "python",
   "nbconvert_exporter": "python",
   "pygments_lexer": "ipython3",
   "version": "3.8.10"
  }
 },
 "nbformat": 4,
 "nbformat_minor": 5
}
