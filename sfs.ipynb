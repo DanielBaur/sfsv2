{
 "cells": [
  {
   "cell_type": "markdown",
   "id": "0d5d38ea",
   "metadata": {},
   "source": [
    "Hier könnte Ihre Werbung stehen."
   ]
  },
  {
   "cell_type": "code",
   "execution_count": 1,
   "id": "2fdcd77b",
   "metadata": {},
   "outputs": [
    {
     "ename": "SyntaxError",
     "evalue": "cannot assign to conditional expression (sfs.py, line 371)",
     "output_type": "error",
     "traceback": [
      "Traceback \u001b[0;36m(most recent call last)\u001b[0m:\n",
      "  File \u001b[1;32m\"/home/daniel/.local/lib/python3.8/site-packages/IPython/core/interactiveshell.py\"\u001b[0m, line \u001b[1;32m3444\u001b[0m, in \u001b[1;35mrun_code\u001b[0m\n    exec(code_obj, self.user_global_ns, self.user_ns)\n",
      "\u001b[0;36m  File \u001b[0;32m\"/tmp/ipykernel_682642/1103277280.py\"\u001b[0;36m, line \u001b[0;32m3\u001b[0;36m, in \u001b[0;35m<module>\u001b[0;36m\u001b[0m\n\u001b[0;31m    import sfs\u001b[0m\n",
      "\u001b[0;36m  File \u001b[0;32m\"/home/daniel/Desktop/arbeitsstuff/sfs/github_repo_v2/sfs.py\"\u001b[0;36m, line \u001b[0;32m371\u001b[0m\n\u001b[0;31m    text_add=\"\\n\" if detector_dict != {} else text_add=\"\"\u001b[0m\n\u001b[0m             ^\u001b[0m\n\u001b[0;31mSyntaxError\u001b[0m\u001b[0;31m:\u001b[0m cannot assign to conditional expression\n"
     ]
    }
   ],
   "source": [
    "import subprocess\n",
    "import numpy as np\n",
    "import sfs"
   ]
  },
  {
   "cell_type": "markdown",
   "id": "15fe9657",
   "metadata": {},
   "source": [
    "#### testing the main execNEST function"
   ]
  },
  {
   "cell_type": "code",
   "execution_count": null,
   "id": "24dd78f0",
   "metadata": {
    "scrolled": false
   },
   "outputs": [],
   "source": [
    "\n",
    "if [False,True][1]:\n",
    "\n",
    "\n",
    "    execNEST_ndarray = sfs.execNEST(\n",
    "        spectrum_dict = {\n",
    "#            \"numEvts\" : [10, 10, 10, 10],\n",
    "            \"numEvts\" : 10,\n",
    "            \"type_interaction\" : \"ER\",\n",
    "#            \"E_min[keV]\" : [100, 100, 100, 100],\n",
    "#            \"E_max[keV]\" : [100, 100, 100, 100],\n",
    "            \"E_min[keV]\" : 100,\n",
    "            \"E_max[keV]\" : 100,\n",
    "            \"field_drift[V/cm]\" : \"200\",\n",
    "        },\n",
    "#        detector_dict = {},\n",
    "        detector_dict = {\n",
    "            \"g1\" : 1.9,\n",
    "            \"g1_gas\" : 1.9,\n",
    "        },\n",
    "        detector_name = \"rndm_new_detector\",\n",
    "        flag_verbose = True,\n",
    "        flag_print_stdout_and_stderr = False,\n",
    "    )\n",
    "\n",
    "\n",
    "    #print(len(execNEST_ndarray))\n"
   ]
  },
  {
   "cell_type": "markdown",
   "id": "f777d7ae",
   "metadata": {},
   "source": [
    "#### write DARWIN baseline header file"
   ]
  },
  {
   "cell_type": "code",
   "execution_count": null,
   "id": "6c0cda17",
   "metadata": {},
   "outputs": [],
   "source": [
    "\n",
    "if [False,True][0]:\n",
    "\n",
    "    sfs.convert_detector_dict_into_detector_header(\n",
    "        detector_dict = sfs.darwin_baseline_detector_dict,\n",
    "        detector_name = \"darwin_testdetector.hh\",\n",
    "        abspath_output_list = [sfs.abspath_sfs_repo_detectors],\n",
    "        flag_verbose = True,\n",
    "    )\n"
   ]
  },
  {
   "cell_type": "markdown",
   "id": "45673ef9",
   "metadata": {},
   "source": [
    "#### install DARWIN baseline Detector"
   ]
  },
  {
   "cell_type": "code",
   "execution_count": null,
   "id": "7ee61f9c",
   "metadata": {},
   "outputs": [],
   "source": [
    "\n",
    "if [False,True][0]:\n",
    "\n",
    "    sfs.install_detector_header_file(\n",
    "        abspathfile_new_detector_hh = sfs.abspath_sfs_repo_detectors +\"darwin_testdetector.hh\",\n",
    "        flag_clean_reinstall = True,\n",
    "        flag_verbose = True,\n",
    "    )\n"
   ]
  }
 ],
 "metadata": {
  "kernelspec": {
   "display_name": "Python 3 (ipykernel)",
   "language": "python",
   "name": "python3"
  },
  "language_info": {
   "codemirror_mode": {
    "name": "ipython",
    "version": 3
   },
   "file_extension": ".py",
   "mimetype": "text/x-python",
   "name": "python",
   "nbconvert_exporter": "python",
   "pygments_lexer": "ipython3",
   "version": "3.8.10"
  }
 },
 "nbformat": 4,
 "nbformat_minor": 5
}
