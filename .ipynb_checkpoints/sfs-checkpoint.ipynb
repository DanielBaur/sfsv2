{
 "cells": [
  {
   "cell_type": "markdown",
   "id": "0d5d38ea",
   "metadata": {},
   "source": [
    "Hier könnte Ihre Werbung stehen."
   ]
  },
  {
   "cell_type": "code",
   "execution_count": 1,
   "id": "2fdcd77b",
   "metadata": {},
   "outputs": [],
   "source": [
    "import subprocess\n",
    "import numpy as np\n",
    "import sfs"
   ]
  },
  {
   "cell_type": "markdown",
   "id": "80d5b52e",
   "metadata": {},
   "source": [
    "#### testing the main execNEST function"
   ]
  },
  {
   "cell_type": "code",
   "execution_count": 2,
   "id": "24dd78f0",
   "metadata": {
    "scrolled": false
   },
   "outputs": [
    {
     "name": "stdout",
     "output_type": "stream",
     "text": [
      "\n",
      "execNEST: initializing\n",
      "execNEST: no detector specified --> running with the pre-installed detector\n",
      "execNEST: compiling the 'execNEST' command strings\n",
      "execNEST: executing '$ execNEST 10 ER 100 100 200 -1 -1 -1 0'\n",
      "\tsearching for the output header line\n",
      "\theader I: ['E_truth [keV]', 'field [V/cm]', 'tDrift [us]', 'X,Y,Z [mm]', 'Nph', 'Ne-', 'S1 [PE or phe]']\n",
      "\theader II: ['S1_3Dcor [phd]', 'spikeC(NON-INT)', 'Ne-Extr', 'S2_rawArea [PE]', 'S2_3Dcorr [phd]']\n",
      "execNEST: writing the NEST output into an ndarray\n",
      "execNEST: casting 'execNEST_output_tuple_list' into numpy ndarray\n"
     ]
    }
   ],
   "source": [
    "\n",
    "if [False,True][1]:\n",
    "\n",
    "\n",
    "    execNEST_ndarray = sfs.execNEST(\n",
    "        spectrum_dict = {\n",
    "#            \"numEvts\" : [10, 10, 10, 10],\n",
    "            \"numEvts\" : 10,\n",
    "            \"type_interaction\" : \"ER\",\n",
    "#            \"E_min[keV]\" : [100, 100, 100, 100],\n",
    "#            \"E_max[keV]\" : [100, 100, 100, 100],\n",
    "            \"E_min[keV]\" : 100,\n",
    "            \"E_max[keV]\" : 100,\n",
    "            \"field_drift[V/cm]\" : \"200\",\n",
    "        },\n",
    "#        detector_dict = {},\n",
    "        detector_dict = {\n",
    "            \"g1\" : 1.9,\n",
    "            \"g1_gas\" : 1.9,\n",
    "        },\n",
    "        flag_verbose = True,\n",
    "        flag_print_stdout_and_stderr = False,\n",
    "    )\n",
    "\n",
    "\n",
    "    #print(len(execNEST_ndarray))\n"
   ]
  },
  {
   "cell_type": "markdown",
   "id": "37a9231c",
   "metadata": {},
   "source": [
    "#### write DARWIN baseline header file"
   ]
  },
  {
   "cell_type": "code",
   "execution_count": 3,
   "id": "6c0cda17",
   "metadata": {},
   "outputs": [],
   "source": [
    "\n",
    "if [False,True][0]:\n",
    "\n",
    "    sfs.convert_detector_dict_into_detector_header(\n",
    "        detector_dict = sfs.darwin_baseline_detector_dict,\n",
    "        detector_name = \"darwin_testdetector.hh\",\n",
    "        abspath_output_list = [sfs.abspath_sfs_repo_detectors],\n",
    "        flag_verbose = True,\n",
    "    )\n"
   ]
  },
  {
   "cell_type": "markdown",
   "id": "02d0c1d4",
   "metadata": {},
   "source": [
    "#### install DARWIN baseline Detector"
   ]
  },
  {
   "cell_type": "code",
   "execution_count": 4,
   "id": "3e8459b1",
   "metadata": {},
   "outputs": [],
   "source": [
    "\n",
    "if [False,True][0]:\n",
    "\n",
    "    sfs.install_detector_header_file(\n",
    "        abspathfile_new_detector_hh = sfs.abspath_sfs_repo_detectors +\"darwin_testdetector.hh\",\n",
    "        flag_clean_reinstall = True,\n",
    "        flag_verbose = True,\n",
    "    )\n"
   ]
  }
 ],
 "metadata": {
  "kernelspec": {
   "display_name": "Python 3 (ipykernel)",
   "language": "python",
   "name": "python3"
  },
  "language_info": {
   "codemirror_mode": {
    "name": "ipython",
    "version": 3
   },
   "file_extension": ".py",
   "mimetype": "text/x-python",
   "name": "python",
   "nbconvert_exporter": "python",
   "pygments_lexer": "ipython3",
   "version": "3.8.10"
  }
 },
 "nbformat": 4,
 "nbformat_minor": 5
}
