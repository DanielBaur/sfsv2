{
 "cells": [
  {
   "cell_type": "markdown",
   "id": "0d5d38ea",
   "metadata": {},
   "source": [
    "Hier könnte Ihre Werbung stehen."
   ]
  },
  {
   "cell_type": "code",
   "execution_count": 1,
   "id": "2fdcd77b",
   "metadata": {},
   "outputs": [],
   "source": [
    "import subprocess\n",
    "import numpy as np\n",
    "import sfs"
   ]
  },
  {
   "cell_type": "code",
   "execution_count": 2,
   "id": "24dd78f0",
   "metadata": {
    "scrolled": false
   },
   "outputs": [],
   "source": [
    "\n",
    "if [False,True][0]:\n",
    "\n",
    "\n",
    "    execNEST_ndarray = sfs.execNEST(\n",
    "        spectrum_dict = {\n",
    "            \"numEvts\" : 10,\n",
    "            \"type_interaction\" : \"ER\",\n",
    "            \"E_min[keV]\" : 100,\n",
    "            \"E_max[keV]\" : 100,\n",
    "            \"field_drift[V/cm]\" : \"200\",\n",
    "        },\n",
    "        detector_dict = {\n",
    "            \"g1\" : 1.9,\n",
    "            \"g1_gas\" : 1.9,\n",
    "        },\n",
    "        flag_verbose = True,\n",
    "    )\n",
    "\n",
    "\n",
    "    print(len(execNEST_ndarray))\n"
   ]
  },
  {
   "cell_type": "code",
   "execution_count": 4,
   "id": "6c0cda17",
   "metadata": {},
   "outputs": [
    {
     "name": "stdout",
     "output_type": "stream",
     "text": [
      "\n",
      "convert_detector_dict_into_detector_header: initializing\n",
      "\tdetector_name: darwin_testdetector\n",
      "convert_detector_dict_into_detector_header: adding initial lines to 'line_list'.\n",
      "convert_detector_dict_into_detector_header: adding 'detector_dict' parameters to 'line_list'.\n",
      "convert_detector_dict_into_detector_header: adding final lines to 'line_list'.\n",
      "convert_detector_dict_into_detector_header: writing 'line_list' into header files.\n",
      "\tsaved: /home/daniel/Desktop/arbeitsstuff/sfs/github_repo_v2/detectors/darwin_testdetector.hh\n"
     ]
    }
   ],
   "source": [
    "\n",
    "if [False,True][0]:\n",
    "\n",
    "    sfs.convert_detector_dict_into_detector_header(\n",
    "        detector_dict = sfs.darwin_baseline_detector_dict,\n",
    "        detector_name = \"darwin_testdetector.hh\",\n",
    "        abspath_output_list = [sfs.abspath_detectors],\n",
    "        flag_verbose = True,\n",
    "    )\n"
   ]
  }
 ],
 "metadata": {
  "kernelspec": {
   "display_name": "Python 3 (ipykernel)",
   "language": "python",
   "name": "python3"
  },
  "language_info": {
   "codemirror_mode": {
    "name": "ipython",
    "version": 3
   },
   "file_extension": ".py",
   "mimetype": "text/x-python",
   "name": "python",
   "nbconvert_exporter": "python",
   "pygments_lexer": "ipython3",
   "version": "3.8.10"
  }
 },
 "nbformat": 4,
 "nbformat_minor": 5
}
