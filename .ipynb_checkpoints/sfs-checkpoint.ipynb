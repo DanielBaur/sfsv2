{
 "cells": [
  {
   "cell_type": "markdown",
   "id": "0d5d38ea",
   "metadata": {},
   "source": [
    "Hier könnte Ihre Werbung stehen."
   ]
  },
  {
   "cell_type": "code",
   "execution_count": 2,
   "id": "e4fe9677",
   "metadata": {
    "scrolled": false
   },
   "outputs": [
    {
     "name": "stdout",
     "output_type": "stream",
     "text": [
      "execNEST: initializing\n",
      "execNEST: compiling the 'execNEST' command strings\n",
      "execNEST: executing '$ /home/daniel/Desktop/arbeitsstuff/sfs/nest_v_2_3_9/install/bin/execNEST 10 ER 100 100 200 -1 -1 -1 0'\n",
      "execNEST: writing the 'execNEST' data into 'execNEST_output_tuple_list'\n",
      "\tlooping over 'execNEST' output lines\n",
      "\textracted header: ['E_truth [keV]', 'field [V/cm]', 'tDrift [us]', 'X,Y,Z [mm]', 'Nph', 'Ne-', 'S1 [PE or phe]', 'S1_3Dcor [phd]', 'spikeC(NON-INT)', 'Ne-Extr', 'S2_rawArea [PE]', 'S2_3Dcorr [phd]']\n",
      "execNEST: casting 'execNEST_output_tuple_list' into numpy ndarray\n",
      "10\n"
     ]
    }
   ],
   "source": [
    "import subprocess\n",
    "import numpy as np\n",
    "import sfs\n",
    "\n",
    "\n",
    "\n",
    "execNEST_ndarray = sfs.execNEST(\n",
    "    abspath_execNEST_binary = \"/home/daniel/Desktop/arbeitsstuff/sfs/nest_v_2_3_9/install/bin/execNEST\",\n",
    "    spectrum_dict = {\n",
    "        \"numEvts\" : 10,\n",
    "        \"type_interaction\" : \"ER\",\n",
    "        \"E_min[keV]\" : 100,\n",
    "        \"E_max[keV]\" : 100,\n",
    "        \"field_drift[V/cm]\" : \"200\",\n",
    "        \"x,y,z-position[mm]\" : \"-1 -1 -1\",\n",
    "        \"seed\" : \"0\",\n",
    "    },\n",
    ")\n",
    "\n",
    "\n",
    "print(len(execNEST_ndarray))\n"
   ]
  }
 ],
 "metadata": {
  "kernelspec": {
   "display_name": "Python 3 (ipykernel)",
   "language": "python",
   "name": "python3"
  },
  "language_info": {
   "codemirror_mode": {
    "name": "ipython",
    "version": 3
   },
   "file_extension": ".py",
   "mimetype": "text/x-python",
   "name": "python",
   "nbconvert_exporter": "python",
   "pygments_lexer": "ipython3",
   "version": "3.8.10"
  }
 },
 "nbformat": 4,
 "nbformat_minor": 5
}
