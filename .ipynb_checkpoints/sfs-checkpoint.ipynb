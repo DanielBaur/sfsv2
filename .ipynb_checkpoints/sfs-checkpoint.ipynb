{
 "cells": [
  {
   "cell_type": "markdown",
   "id": "0d5d38ea",
   "metadata": {},
   "source": [
    "Hier könnte Ihre Werbung stehen."
   ]
  },
  {
   "cell_type": "code",
   "execution_count": 1,
   "id": "284340b9",
   "metadata": {},
   "outputs": [],
   "source": [
    "import subprocess\n",
    "import numpy as np\n",
    "import sfs"
   ]
  },
  {
   "cell_type": "code",
   "execution_count": 2,
   "id": "71d72fd9",
   "metadata": {
    "scrolled": false
   },
   "outputs": [],
   "source": [
    "\n",
    "if [False,True][0]:\n",
    "\n",
    "\n",
    "    execNEST_ndarray = sfs.execNEST(\n",
    "        spectrum_dict = {\n",
    "            \"numEvts\" : 10,\n",
    "            \"type_interaction\" : \"ER\",\n",
    "            \"E_min[keV]\" : 100,\n",
    "            \"E_max[keV]\" : 100,\n",
    "            \"field_drift[V/cm]\" : \"200\",\n",
    "        },\n",
    "        detector_dict = \"jfk.json\",\n",
    "        flag_verbose = True,\n",
    "    )\n",
    "\n",
    "\n",
    "    print(len(execNEST_ndarray))\n"
   ]
  }
 ],
 "metadata": {
  "kernelspec": {
   "display_name": "Python 3 (ipykernel)",
   "language": "python",
   "name": "python3"
  },
  "language_info": {
   "codemirror_mode": {
    "name": "ipython",
    "version": 3
   },
   "file_extension": ".py",
   "mimetype": "text/x-python",
   "name": "python",
   "nbconvert_exporter": "python",
   "pygments_lexer": "ipython3",
   "version": "3.8.10"
  }
 },
 "nbformat": 4,
 "nbformat_minor": 5
}
