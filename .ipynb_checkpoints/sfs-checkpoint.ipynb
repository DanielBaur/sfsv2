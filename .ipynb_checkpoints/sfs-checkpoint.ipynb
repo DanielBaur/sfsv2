{
 "cells": [
  {
   "cell_type": "markdown",
   "id": "0d5d38ea",
   "metadata": {},
   "source": [
    "Hier könnte Ihre Werbung stehen."
   ]
  },
  {
   "cell_type": "code",
   "execution_count": 1,
   "id": "2fdcd77b",
   "metadata": {},
   "outputs": [],
   "source": [
    "import subprocess\n",
    "import numpy as np\n",
    "import sfs"
   ]
  },
  {
   "cell_type": "markdown",
   "id": "d8c1179d",
   "metadata": {},
   "source": [
    "#### testing the main execNEST function"
   ]
  },
  {
   "cell_type": "code",
   "execution_count": 2,
   "id": "24dd78f0",
   "metadata": {
    "scrolled": false
   },
   "outputs": [],
   "source": [
    "\n",
    "if [False,True][0]:\n",
    "\n",
    "\n",
    "    execNEST_ndarray = sfs.execNEST(\n",
    "        spectrum_dict = {\n",
    "#            \"numEvts\" : [10, 10, 10, 10],\n",
    "            \"numEvts\" : 10,\n",
    "            \"type_interaction\" : \"ER\",\n",
    "#            \"E_min[keV]\" : [100, 100, 100, 100],\n",
    "#            \"E_max[keV]\" : [100, 100, 100, 100],\n",
    "            \"E_min[keV]\" : 100,\n",
    "            \"E_max[keV]\" : 100,\n",
    "            \"field_drift[V/cm]\" : \"200\",\n",
    "        },\n",
    "#        detector_dict = {},\n",
    "        detector_dict = {\n",
    "            \"g1\" : 1.9,\n",
    "            \"g1_gas\" : 1.9,\n",
    "        },\n",
    "        detector_name = \"rndm_new_detector\",\n",
    "        flag_verbose = True,\n",
    "        flag_print_stdout_and_stderr = False,\n",
    "    )\n",
    "\n",
    "\n",
    "    #print(len(execNEST_ndarray))\n"
   ]
  },
  {
   "cell_type": "markdown",
   "id": "bde106f4",
   "metadata": {},
   "source": [
    "#### compute g2 from detector configuration"
   ]
  },
  {
   "cell_type": "code",
   "execution_count": 20,
   "id": "c59fde07",
   "metadata": {},
   "outputs": [
    {
     "name": "stdout",
     "output_type": "stream",
     "text": [
      "ExtEff=0.5430850127427067\n",
      "SE_size=581.9310500000001\n",
      "269.42713700309184\n"
     ]
    }
   ],
   "source": [
    "\n",
    "if [False,True][1]:\n",
    "\n",
    "\n",
    "    def convert_detector_header_into_detector_dict(\n",
    "        abspathfile_detector_header,\n",
    "    ):\n",
    "\n",
    "        \"\"\"\n",
    "        This function is used to extract the detector parameters from a detector header file and to write them into a detector dictionary.\n",
    "        \"\"\"\n",
    "\n",
    "        # initialization\n",
    "        line_list = []\n",
    "        detector_dict = {}\n",
    "        parameter_list = [\n",
    "            \"g1\", \"sPEres\", \"sPEthr\", \"sPEeff\", \"noiseBaseline[0]\", \"noiseBaseline[1]\", \"noiseBaseline[2]\",\n",
    "            \"noiseBaseline[3]\", \"P_dphe\", \"coinWind\", \"coinLevel\", \"numPMTs\", \"OldW13eV\", \"noiseLinear[0]\",\n",
    "            \"noiseLinear[1]\", \"g1_gas\", \"s2Fano\", \"s2_thr\", \"E_gas\", \"eLife_us\", \"T_Kelvin\", \"p_bar\", \"dtCntr\",\n",
    "            \"dt_min\", \"dt_max\", \"radius\", \"radmax\", \"TopDrift\", \"anode\", \"gate\", \"cathode\", \"PosResExp\", \"PosResBase\"]\n",
    "\n",
    "        # reading the lines of the input file\n",
    "        with open(abspathfile_detector_header, 'r') as inputfile:\n",
    "            for line in inputfile:\n",
    "                line_list.append(line)\n",
    "\n",
    "        # extracting the detector parameters into \n",
    "        for line in line_list:\n",
    "            if \"=\" in line and any([param in line for param in parameter_list]) and \";\" in line:\n",
    "                line_mod = line\n",
    "                for k in range(0,50):\n",
    "                    line_mod = line_mod.replace(\"  \",\" \")\n",
    "                line_mod_list = list(line_mod.split(\" \"))\n",
    "                extracted_parameter = line_mod_list[1]\n",
    "                extracted_value = line_mod_list[-1][:-2] if extracted_parameter==\"OldW13eV\" else float(line_mod_list[-1][:-2])\n",
    "                detector_dict.update({extracted_parameter:extracted_value})\n",
    "\n",
    "        return detector_dict\n",
    "\n",
    "\n",
    "    def compute_g2_from_detector_configuration(\n",
    "        detector_dict, # dict, detector configuration\n",
    "    ):\n",
    "        \"\"\"\n",
    "        This function is used to compute the g2 value of a specific detector configuration.\n",
    "        The comments on the official repo .\n",
    "        \"\"\"\n",
    "        \n",
    "        EPS_GAS = 1.00126\n",
    "        EPS_LIQ = 1.85 # instead of 1.96 as in old NEST versions\n",
    "        E_liq = detector_dict[\"E_gas\"]/(EPS_LIQ/EPS_GAS)\n",
    "        T_Kelvin = detector_dict[\"T_Kelvin\"]\n",
    "        \n",
    "        em1 = 8.807528626640e4 -2.026247730928e3*T_Kelvin +1.747197309338e1*T_Kelvin**2 -6.692362929271e-2*T_Kelvin**3 +9.607626262594e-5*T_Kelvin**4\n",
    "        em2 = 5.074800229635e5 -1.460168019275e4*T_Kelvin +1.680089978382e2*T_Kelvin**2 -9.663183204468e-1*T_Kelvin**3 +2.778229721617e-3*T_Kelvin**4 -3.194249083426e-6*T_Kelvin**5\n",
    "        em3 = -4.659269964120e6 +1.366555237249e5*T_Kelvin -1.602830617076e3*T_Kelvin**2 +9.397480411915e-0*T_Kelvin**3 -2.754232523872e-2*T_Kelvin**4 +3.228101180588e-5*T_Kelvin**5\n",
    "        ExtEff = 1 - em1 *np.exp(-em2 *(E_liq**em3))\n",
    "        #ExtEff = 1 if ExtEff >= 1\n",
    "        #ExtEff = 0 if ExtEff < 0\n",
    "        SE_size = detector_dict[\"g1_gas\"]*(detector_dict[\"TopDrift\"]-detector_dict[\"gate\"])*0.1*(0.137*detector_dict[\"E_gas\"]*1000-177*detector_dict[\"p_bar\"]-45.7)\n",
    "        g2 = ExtEff*SE_size\n",
    "        \n",
    "        print(f\"ExtEff={ExtEff}\")\n",
    "        print(f\"SE_size={SE_size}\")\n",
    "        \n",
    "        return g2\n",
    "\n",
    "\n",
    "    #detector_dict_test = sfs.darwin_baseline_detector_dict.copy()\n",
    "    #detector_dict_test.update({\n",
    "    #    \"g1\" : 1.9,\n",
    "    #    \"g1_gas\" : 1.9,\n",
    "    #})\n",
    "    #print(detector_dict_test)\n",
    "    \n",
    "    \n",
    "    \n",
    "    extracted_detector_dict = convert_detector_header_into_detector_dict(sfs.abspath_nest_installation_install +\"include/Detectors/rndm_new_detector.hh\")\n",
    "    g2_test = compute_g2_from_detector_configuration(\n",
    "        detector_dict = extracted_detector_dict\n",
    "    )\n",
    "    print(g2_test/(1 +extracted_detector_dict[\"P_dphe\"]))\n",
    "    \n",
    "    "
   ]
  },
  {
   "cell_type": "code",
   "execution_count": 15,
   "id": "0cefb4de",
   "metadata": {},
   "outputs": [
    {
     "name": "stdout",
     "output_type": "stream",
     "text": [
      "236.45051964000004\n"
     ]
    }
   ],
   "source": [
    "print(0.543085 *435.384)"
   ]
  }
 ],
 "metadata": {
  "kernelspec": {
   "display_name": "Python 3 (ipykernel)",
   "language": "python",
   "name": "python3"
  },
  "language_info": {
   "codemirror_mode": {
    "name": "ipython",
    "version": 3
   },
   "file_extension": ".py",
   "mimetype": "text/x-python",
   "name": "python",
   "nbconvert_exporter": "python",
   "pygments_lexer": "ipython3",
   "version": "3.8.10"
  }
 },
 "nbformat": 4,
 "nbformat_minor": 5
}
