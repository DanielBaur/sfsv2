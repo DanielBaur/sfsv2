{
 "cells": [
  {
   "cell_type": "markdown",
   "id": "0d5d38ea",
   "metadata": {},
   "source": [
    "Hier könnte Ihre Werbung stehen."
   ]
  },
  {
   "cell_type": "code",
   "execution_count": 1,
   "id": "2fdcd77b",
   "metadata": {},
   "outputs": [],
   "source": [
    "import subprocess\n",
    "import numpy as np\n",
    "import sfs"
   ]
  },
  {
   "cell_type": "code",
   "execution_count": 2,
   "id": "24dd78f0",
   "metadata": {
    "scrolled": false
   },
   "outputs": [],
   "source": [
    "\n",
    "if [False,True][0]:\n",
    "\n",
    "\n",
    "    execNEST_ndarray = sfs.execNEST(\n",
    "        spectrum_dict = {\n",
    "            \"numEvts\" : [10, 10, 10, 10],\n",
    "            \"type_interaction\" : \"ER\",\n",
    "            \"E_min[keV]\" : [100, 100, 100, 100],\n",
    "            \"E_max[keV]\" : [100, 100, 100, 100],\n",
    "            \"field_drift[V/cm]\" : \"200\",\n",
    "        },\n",
    "        detector_dict = {\n",
    "            \"g1\" : 1.9,\n",
    "            \"g1_gas\" : 1.9,\n",
    "        },\n",
    "        flag_verbose = True,\n",
    "    )\n",
    "\n",
    "\n",
    "    print(len(execNEST_ndarray))\n"
   ]
  },
  {
   "cell_type": "markdown",
   "id": "63c687d3",
   "metadata": {},
   "source": [
    "#### write DARWIN baseline header file"
   ]
  },
  {
   "cell_type": "code",
   "execution_count": 3,
   "id": "6c0cda17",
   "metadata": {},
   "outputs": [
    {
     "name": "stdout",
     "output_type": "stream",
     "text": [
      "\n",
      "convert_detector_dict_into_detector_header: initializing\n",
      "\tdetector_name: darwin_testdetector\n",
      "convert_detector_dict_into_detector_header: adding initial lines to 'line_list'.\n",
      "convert_detector_dict_into_detector_header: adding 'detector_dict' parameters to 'line_list'.\n",
      "convert_detector_dict_into_detector_header: adding final lines to 'line_list'.\n",
      "convert_detector_dict_into_detector_header: writing 'line_list' into header files.\n",
      "\tsaved: /home/daniel/Desktop/arbeitsstuff/sfs/github_repo_v2/detectors/darwin_testdetector.hh\n"
     ]
    }
   ],
   "source": [
    "\n",
    "if [False,True][0]:\n",
    "\n",
    "    sfs.convert_detector_dict_into_detector_header(\n",
    "        detector_dict = sfs.darwin_baseline_detector_dict,\n",
    "        detector_name = \"darwin_testdetector.hh\",\n",
    "        abspath_output_list = [sfs.abspath_sfs_repo_detectors],\n",
    "        flag_verbose = True,\n",
    "    )\n"
   ]
  },
  {
   "cell_type": "markdown",
   "id": "0eb39c2d",
   "metadata": {},
   "source": [
    "#### install DARWIN baseline Detector"
   ]
  },
  {
   "cell_type": "code",
   "execution_count": 6,
   "id": "838d5197",
   "metadata": {},
   "outputs": [
    {
     "name": "stdout",
     "output_type": "stream",
     "text": [
      "\n",
      "install_detector_header_file: initialization\n",
      "install_detector_header_file: copying '/home/daniel/Desktop/arbeitsstuff/sfs/github_repo_v2/detectors/darwin_testdetector.hh' into /home/daniel/Desktop/arbeitsstuff/sfs/nest_v_2_3_9/nest/include/Detectors/\n",
      "stdout: ''\n",
      "stderr: ''\n",
      "install_detector_header_file: reading '/home/daniel/Desktop/arbeitsstuff/sfs/nest_v_2_3_9/nest/src/execNEST.cpp'\n",
      "install_detector_header_file: modifying '/home/daniel/Desktop/arbeitsstuff/sfs/nest_v_2_3_9/nest/src/execNEST.cpp'\n",
      "\tinserted '#include \"darwin_testdetector.hh\"\n",
      "'\n",
      "\tinserted '  auto* detector = new darwin_testdetector();\n",
      "'\n",
      "\tinserted '    cerr << \"You are currently using the darwin_testdetector detector.\" << endl\n",
      "'\n",
      "install_detector_header_file: saving modified version of '/home/daniel/Desktop/arbeitsstuff/sfs/nest_v_2_3_9/nest/src/execNEST.cpp'\n",
      "install_detector_header_file: performing clean reinstall\n",
      "\n",
      "make_clean_reinstall: initialization\n",
      "make_clean_reinstall: defining shell commands in 'cmd_list'\n",
      "make_clean_reinstall: looping over all entries in 'cmd_list'\n",
      "make_clean_reinstall: executing '$ (cd /home/daniel/Desktop/arbeitsstuff/sfs/nest_v_2_3_9/build/ && ls -la)'\n",
      "\tpositive validity check for stderr: 'cmd_dict[stderr]' == ''\n",
      "\tpositive validity check for stdout: one 'cmd_dict[stdout]' line contains 'total'\n",
      "\tpositive validity check for stdout: one 'cmd_dict[stdout]' line contains 'daniel'\n",
      "make_clean_reinstall: executing '$ (cd /home/daniel/Desktop/arbeitsstuff/sfs/nest_v_2_3_9/build/ && make clean)'\n",
      "\tpositive validity check for stderr: 'cmd_dict[stderr]' == ''\n",
      "\tpositive validity check for stdout: 'cmd_dict[stdout]' == ''\n",
      "make_clean_reinstall: executing '$ (cd /home/daniel/Desktop/arbeitsstuff/sfs/nest_v_2_3_9/build/ && make)'\n",
      "\tpositive validity check for stderr: one 'cmd_dict[stderr]' line contains 'warning'\n",
      "\tpositive validity check for stdout: one 'cmd_dict[stdout]' line contains '[100%]'\n",
      "\tpositive validity check for stdout: one 'cmd_dict[stdout]' line contains 'Built target'\n",
      "\tpositive validity check for stdout: one 'cmd_dict[stdout]' line contains 'Building'\n",
      "make_clean_reinstall: executing '$ (cd /home/daniel/Desktop/arbeitsstuff/sfs/nest_v_2_3_9/build/ && make install)'\n",
      "\tpositive validity check for stderr: 'cmd_dict[stderr]' == ''\n",
      "\tpositive validity check for stdout: one 'cmd_dict[stdout]' line contains '[100%]'\n",
      "\tpositive validity check for stdout: one 'cmd_dict[stdout]' line contains 'Built target'\n",
      "\tpositive validity check for stdout: one 'cmd_dict[stdout]' line contains 'Install configuration'\n",
      "\tpositive validity check for stdout: one 'cmd_dict[stdout]' line contains 'Up-to-date'\n",
      "make_clean_reinstall: successfully executed all entries in 'cmd_list'\n"
     ]
    }
   ],
   "source": [
    "\n",
    "if [False,True][0]:\n",
    "\n",
    "    sfs.install_detector_header_file(\n",
    "        abspathfile_new_detector_hh = sfs.abspath_sfs_repo_detectors +\"darwin_testdetector.hh\",\n",
    "        flag_clean_reinstall = True,\n",
    "        flag_verbose = True,\n",
    "    )\n"
   ]
  }
 ],
 "metadata": {
  "kernelspec": {
   "display_name": "Python 3 (ipykernel)",
   "language": "python",
   "name": "python3"
  },
  "language_info": {
   "codemirror_mode": {
    "name": "ipython",
    "version": 3
   },
   "file_extension": ".py",
   "mimetype": "text/x-python",
   "name": "python",
   "nbconvert_exporter": "python",
   "pygments_lexer": "ipython3",
   "version": "3.8.10"
  }
 },
 "nbformat": 4,
 "nbformat_minor": 5
}
